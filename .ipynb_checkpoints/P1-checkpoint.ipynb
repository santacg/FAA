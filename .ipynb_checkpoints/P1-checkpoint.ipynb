{
 "cells": [
  {
   "cell_type": "markdown",
   "id": "ba092e2b-e50a-42a9-bffc-dd3db7f1c0aa",
   "metadata": {},
   "source": [
    "# Apartado 1 Naive-Bayes propio\n",
    "• Tabla con los resultados de la ejecución para los conjuntos de datos\n",
    "analizados (wdbc y heart). Considerar los dos tipos de particionado. Los\n",
    "resultados se refieren a las tasas de error y deben mostrarse tanto con\n",
    "la corrección de Laplace como sin ella. Se debe incluir tanto el\n",
    "promedio de error como su desviación típica. Es importante mostrar\n",
    "todos los resultados agrupados en una tabla para facilitar su evaluación."
   ]
  },
  {
   "cell_type": "code",
   "execution_count": null,
   "id": "6907a8fc-4874-4dd1-bc4d-8df02c7bee5b",
   "metadata": {},
   "outputs": [],
   "source": [
    "import pandas as pd\n",
    "import numpy as np\n",
    "import EstrategiaParticionado\n",
    "from Datos import Datos\n",
    "from Clasificador import ClasificadorNaiveBayes\n",
    "from os import listdir\n",
    "\n",
    "resultados = []\n",
    "\n",
    "# Ejecutamos cada dataset que se encuentre en la carpeta Datasets\n",
    "for dataset_name in listdir('Datasets/'):\n",
    "    dataset = Datos('Datasets/' + dataset_name)\n",
    "    \n",
    "    # Parámetros de las estrategias de particionado\n",
    "    n_ejecuciones = 5\n",
    "    n_folds = 5\n",
    "    estrategia_simple = EstrategiaParticionado.ValidacionSimple(n_ejecuciones, 0.25)\n",
    "    estrategia_cruzada = EstrategiaParticionado.ValidacionCruzada(n_folds)\n",
    "    clasificador = ClasificadorNaiveBayes(laplace=True)\n",
    "    \n",
    "    # Con corrección de Laplace\n",
    "    error_simple_laplace = clasificador.validacion(estrategia_simple, dataset, clasificador)\n",
    "    error_cruzada_laplace = clasificador.validacion(estrategia_cruzada, dataset, clasificador)\n",
    "    \n",
    "    # Sin corrección de Laplace\n",
    "    clasificador.laplace = False\n",
    "    error_simple = clasificador.validacion(estrategia_simple, dataset, clasificador)\n",
    "    error_cruzada = clasificador.validacion(estrategia_cruzada, dataset, clasificador)\n",
    "    \n",
    "    # Calculamos los promedios y las desviaciones típicas y las almacenamos en los resutlados \n",
    "    # para posteriormente mostrarlos en una tabla\n",
    "    resultados.append({\n",
    "        'Dataset': dataset_name,\n",
    "        'Particionado': 'Simple',\n",
    "        'Laplace': True,\n",
    "        'Error Promedio': np.mean(error_simple_laplace),\n",
    "        'Desviación Típica': np.std(error_simple_laplace)\n",
    "    })\n",
    "    resultados.append({\n",
    "        'Dataset': dataset_name,\n",
    "        'Particionado': 'Cruzada',\n",
    "        'Laplace': True,\n",
    "        'Error Promedio': np.mean(error_cruzada_laplace),\n",
    "        'Desviación Típica': np.std(error_cruzada_laplace)\n",
    "    })\n",
    "    resultados.append({\n",
    "        'Dataset': dataset_name,\n",
    "        'Particionado': 'Simple',\n",
    "        'Laplace': False,\n",
    "        'Error Promedio': np.mean(error_simple),\n",
    "        'Desviación Típica': np.std(error_simple)\n",
    "    })\n",
    "    resultados.append({\n",
    "        'Dataset': dataset_name,\n",
    "        'Particionado': 'Cruzada',\n",
    "        'Laplace': False,\n",
    "        'Error Promedio': np.mean(error_cruzada),\n",
    "        'Desviación Típica': np.std(error_cruzada)\n",
    "    })\n",
    "\n",
    "# Convertimos los resultados en un dataframe\n",
    "df_resultados = pd.DataFrame(resultados)\n",
    "\n",
    "# Mostramos la tabla\n",
    "display(df_resultados)\n"
   ]
  },
  {
   "cell_type": "markdown",
   "id": "2bd0f58d-b2db-4679-bf26-615d968e87b0",
   "metadata": {},
   "source": [
    "• Breve análisis de los resultados anteriores. Discutir el efecto Laplace.\n",
    "Para la creación de particiones se ha empleado "
   ]
  },
  {
   "cell_type": "code",
   "execution_count": null,
   "id": "044c4a78-1031-4fe6-b94e-a75a980c283d",
   "metadata": {},
   "outputs": [],
   "source": []
  }
 ],
 "metadata": {
  "kernelspec": {
   "display_name": "Python 3 (ipykernel)",
   "language": "python",
   "name": "python3"
  },
  "language_info": {
   "codemirror_mode": {
    "name": "ipython",
    "version": 3
   },
   "file_extension": ".py",
   "mimetype": "text/x-python",
   "name": "python",
   "nbconvert_exporter": "python",
   "pygments_lexer": "ipython3",
   "version": "3.12.7"
  }
 },
 "nbformat": 4,
 "nbformat_minor": 5
}
