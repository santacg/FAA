{
 "cells": [
  {
   "cell_type": "code",
   "execution_count": null,
   "id": "ffda59d9",
   "metadata": {},
   "outputs": [],
   "source": [
    "from Datos import Datos\n",
    "import EstrategiaParticionado\n",
    "\n",
    "dataset=Datos('./datasets/balloons.csv')\n",
    "#dataset=Datos('./datasets/heart.csv')\n",
    "print(\"NOMINAL ATRIBUTOS\")\n",
    "print(dataset.nominalAtributos)\n",
    "print(\"DICCIONARIO\")\n",
    "print (dataset.diccionarios)\n",
    "print(\"MATRIZ DE DATOS\")\n",
    "print(dataset.df.head(10))\n",
    "print(dataset.datos.head(10))"
   ]
  },
  {
   "cell_type": "code",
   "execution_count": null,
   "id": "c8ae0dde",
   "metadata": {},
   "outputs": [],
   "source": [
    "estrategia=EstrategiaParticionado.ValidacionCruzada(10)\n",
    "estrategia.creaParticiones(dataset.datos)       # datos se refiere a la matriz numérica calculada en Datos\n",
    "print(\"VALIDACIÓN CRUZADA\")\n",
    "print(\"Train-particion 0: \", estrategia.particiones[0].indicesTrain)       # particiones contiene la lista de particiones\n",
    "print(\"Test-particion 0: \", estrategia.particiones[0].indicesTest)"
   ]
  },
  {
   "cell_type": "code",
   "execution_count": null,
   "id": "c0c51e1d",
   "metadata": {},
   "outputs": [],
   "source": [
    "estrategia=EstrategiaParticionado.ValidacionSimple(10, 0.3)\n",
    "estrategia.creaParticiones(dataset.datos)       # datos se refiere a la matriz numérica calculada en Datos\n",
    "print(\"VALIDACIÓN SIMPLE\")\n",
    "print(\"Train-particion 0: \", estrategia.particiones[0].indicesTrain)       # particiones contiene la lista de particiones\n",
    "print(\"Test-particion 0: \", estrategia.particiones[0].indicesTest)"
   ]
  }
 ],
 "metadata": {
  "kernelspec": {
   "display_name": "Python 3 (ipykernel)",
   "language": "python",
   "name": "python3"
  },
  "language_info": {
   "codemirror_mode": {
    "name": "ipython",
    "version": 3
   },
   "file_extension": ".py",
   "mimetype": "text/x-python",
   "name": "python",
   "nbconvert_exporter": "python",
   "pygments_lexer": "ipython3",
   "version": "3.10.9"
  }
 },
 "nbformat": 4,
 "nbformat_minor": 5
}
